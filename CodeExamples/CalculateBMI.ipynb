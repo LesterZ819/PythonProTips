## Calculate BMI 

#### Simple program to calculate a user's BMI based on the United States' measuring system. 

print('Welcome to the BMI Calculator by Amanda.')
print("This program is designed to calculate BMI using The United States's customary measuring units inches and pounds.")

