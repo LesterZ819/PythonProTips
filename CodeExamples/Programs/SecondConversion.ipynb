{
 "cells": [
  {
   "cell_type": "markdown",
   "metadata": {},
   "source": [
    "## Time Conversion\n",
    "\n",
    "#### Code was built upon example from QMB 6930, with updates made to showcase various print() options. \n",
    "\n",
    "#### Convert time in seconds to standard HH:MM:SS format "
   ]
  },
  {
   "cell_type": "markdown",
   "metadata": {},
   "source": [
    "## Request Input"
   ]
  },
  {
   "cell_type": "code",
   "execution_count": 1,
   "metadata": {},
   "outputs": [
    {
     "name": "stdin",
     "output_type": "stream",
     "text": [
      "Please enter the number of seconds: 587629\n"
     ]
    }
   ],
   "source": [
    "# Request the user input the number of seconds they would like to convert. \n",
    "input = int(input(\"Please enter the number of seconds:\"))"
   ]
  },
  {
   "cell_type": "markdown",
   "metadata": {},
   "source": [
    "## Compute the Results "
   ]
  },
  {
   "cell_type": "code",
   "execution_count": 3,
   "metadata": {},
   "outputs": [],
   "source": [
    "# First, compute the number of hours in the given number of seconds\n",
    "# Note: integer division with possible truncation\n",
    "hours = input // 3600 # 3600 seconds = 1 hours\n",
    "\n",
    "# Compute the remaining seconds after the hours are accounted for\n",
    "seconds = input % 3600\n",
    "\n",
    "# Next, compute the number of minutes in the remaining number of seconds\n",
    "minutes = seconds // 60 # 60 seconds = 1 minute\n",
    "\n",
    "# Compute the remaining seconds after the minutes are accounted for\n",
    "seconds = seconds % 60"
   ]
  },
  {
   "cell_type": "markdown",
   "metadata": {},
   "source": [
    "## Print the Results \n",
    "\n",
    "#### The output of the program is created using a print() statement. Variations in the print statement can be seen below and impact the quality of the overall program. "
   ]
  },
  {
   "cell_type": "markdown",
   "metadata": {},
   "source": [
    "##### - When creating a print() statement you can add multiple strings together. \n",
    "##### - Convert non-string datatypes to a string using the str() function \n",
    "##### - Each print() statement creates a new line "
   ]
  },
  {
   "cell_type": "code",
   "execution_count": 4,
   "metadata": {},
   "outputs": [
    {
     "name": "stdout",
     "output_type": "stream",
     "text": [
      "Hours:163\n",
      "Minutes:13\n",
      "Seconds:49\n"
     ]
    }
   ],
   "source": [
    "#Basic Example with Hours, Minutes and Seconds on a new line. \n",
    "print('Hours:' + str(hours)) \n",
    "print('Minutes:' + str(minutes))\n",
    "print('Seconds:' + str(seconds))"
   ]
  },
  {
   "cell_type": "markdown",
   "metadata": {},
   "source": [
    "#### Use \\ to breakup long statements over multiple lines of code. "
   ]
  },
  {
   "cell_type": "code",
   "execution_count": 5,
   "metadata": {},
   "outputs": [
    {
     "name": "stdout",
     "output_type": "stream",
     "text": [
      "The equivalent time for the input 587629 seconds is 163 hours, 13 minutes and 49 seconds.\n"
     ]
    }
   ],
   "source": [
    "print('The equivalent time for the input ' + str(input) + ' seconds ' + \\\n",
    "     'is ' + str(hours) + ' hours, ' + \\\n",
    "     str(minutes) + ' minutes ' + \\\n",
    "     'and ' + str(seconds) + ' seconds.')"
   ]
  },
  {
   "cell_type": "markdown",
   "metadata": {},
   "source": [
    "#### Outputs HH:MM:SS format \n",
    "\n",
    "##### - using sep=\"\", end=\"\" joins multiple print() together \n",
    "##### - sep=\"\" indicates there is no spacing between the print() statements \n",
    "##### - end=\"\" indicates that each statement will continue on the same line"
   ]
  },
  {
   "cell_type": "code",
   "execution_count": 6,
   "metadata": {},
   "outputs": [
    {
     "name": "stdout",
     "output_type": "stream",
     "text": [
      "163:13:49\n"
     ]
    }
   ],
   "source": [
    "# Report the results\n",
    "print(hours, \":\", sep=\"\", end=\"\")\n",
    "# Compute tens digit of minutes\n",
    "tens = minutes // 10\n",
    "# Compute ones digit of minutes\n",
    "ones = minutes % 10\n",
    "print(tens, ones, \":\", sep=\"\", end=\"\")\n",
    "# Compute tens digit of seconds\n",
    "tens = seconds // 10\n",
    "# Compute ones digit of seconds\n",
    "ones = seconds % 10\n",
    "print(tens, ones, sep =\"\")"
   ]
  },
  {
   "cell_type": "markdown",
   "metadata": {},
   "source": [
    "#### Decribe the Output For Usability"
   ]
  },
  {
   "cell_type": "code",
   "execution_count": 7,
   "metadata": {},
   "outputs": [
    {
     "name": "stdout",
     "output_type": "stream",
     "text": [
      "The converted time is: 163:13:49\n"
     ]
    }
   ],
   "source": [
    "print('The converted time is: ', sep=\" \", end=\"\")\n",
    "# Report the results\n",
    "print(hours, \":\", sep=\"\", end=\"\")\n",
    "# Compute tens digit of minutes\n",
    "tens = minutes // 10\n",
    "# Compute ones digit of minutes\n",
    "ones = minutes % 10\n",
    "print(tens, ones, \":\", sep=\"\", end=\"\")\n",
    "# Compute tens digit of seconds\n",
    "tens = seconds // 10\n",
    "# Compute ones digit of seconds\n",
    "ones = seconds % 10\n",
    "print(tens, ones, sep =\"\")"
   ]
  }
 ],
 "metadata": {
  "kernelspec": {
   "display_name": "Python 3",
   "language": "python",
   "name": "python3"
  },
  "language_info": {
   "codemirror_mode": {
    "name": "ipython",
    "version": 3
   },
   "file_extension": ".py",
   "mimetype": "text/x-python",
   "name": "python",
   "nbconvert_exporter": "python",
   "pygments_lexer": "ipython3",
   "version": "3.8.5"
  }
 },
 "nbformat": 4,
 "nbformat_minor": 4
}
