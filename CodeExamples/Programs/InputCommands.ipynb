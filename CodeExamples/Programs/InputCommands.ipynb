{
 "cells": [
  {
   "cell_type": "markdown",
   "metadata": {},
   "source": [
    "## Utilize Input Commands\n",
    "\n",
    "Functional Compositions, use input commands to request information from the user before the program is run. "
   ]
  },
  {
   "cell_type": "code",
   "execution_count": 2,
   "metadata": {},
   "outputs": [
    {
     "name": "stdin",
     "output_type": "stream",
     "text": [
      "Please enter an interger value:  47\n",
      "Please enter another interger value:  39\n"
     ]
    },
    {
     "name": "stdout",
     "output_type": "stream",
     "text": [
      "47 + 39 = 86\n"
     ]
    }
   ],
   "source": [
    "num1 = int(input(\"Please enter an interger value: \"))\n",
    "num2 = int(input('Please enter another interger value: '))\n",
    "print(num1, \"+\", num2, \"=\", num1 + num2)"
   ]
  },
  {
   "cell_type": "markdown",
   "metadata": {},
   "source": [
    "### Intermediate Variables \n",
    "\n",
    "Sometimes it makes sense to use an intermediate variable, for example sum, in your code. "
   ]
  },
  {
   "cell_type": "code",
   "execution_count": 3,
   "metadata": {},
   "outputs": [
    {
     "name": "stdin",
     "output_type": "stream",
     "text": [
      "Please enter an interger value:  43\n",
      "Please enter another interger value:  28\n"
     ]
    },
    {
     "name": "stdout",
     "output_type": "stream",
     "text": [
      "43 + 28 = 71\n"
     ]
    }
   ],
   "source": [
    "num1 = int(input(\"Please enter an interger value: \"))\n",
    "num2 = int(input('Please enter another interger value: '))\n",
    "Sum = num1 + num2\n",
    "print(num1, \"+\", num2, \"=\", Sum)"
   ]
  },
  {
   "cell_type": "markdown",
   "metadata": {},
   "source": [
    "### Update Print Statements\n",
    "\n",
    "More descriptive print statements can provide better meaning for the program users. "
   ]
  },
  {
   "cell_type": "code",
   "execution_count": 4,
   "metadata": {},
   "outputs": [
    {
     "name": "stdin",
     "output_type": "stream",
     "text": [
      "Please enter an interger value:  28\n",
      "Please enter another interger value:  47\n"
     ]
    },
    {
     "name": "stdout",
     "output_type": "stream",
     "text": [
      "The sum of the two numbers provided is 75.\n"
     ]
    }
   ],
   "source": [
    "num1 = int(input(\"Please enter an interger value: \"))\n",
    "num2 = int(input('Please enter another interger value: '))\n",
    "Sum = num1 + num2\n",
    "print('The sum of the two numbers provided is ' + str(Sum) + '.')"
   ]
  },
  {
   "cell_type": "markdown",
   "metadata": {},
   "source": [
    "## Conditional Inputs \n",
    "\n",
    "#### Often inputs will need to follow guidelines. Use an if statement to notify users when their inputs did not meet the specified rules. "
   ]
  },
  {
   "cell_type": "code",
   "execution_count": 2,
   "metadata": {},
   "outputs": [
    {
     "name": "stdout",
     "output_type": "stream",
     "text": [
      "Welcome to the Division Calculator\n"
     ]
    },
    {
     "name": "stdin",
     "output_type": "stream",
     "text": [
      "Please enter the number to divide:  764\n",
      "Please enter dividend:  3\n"
     ]
    },
    {
     "name": "stdout",
     "output_type": "stream",
     "text": [
      "764 / 3 = 254.66666666666666\n"
     ]
    }
   ],
   "source": [
    "#Example from QMB 6930\n",
    "\n",
    "print('Welcome to the Division Calculator')\n",
    "\n",
    "# Get two integers from the user\n",
    "dividend = int(input('Please enter the number to divide: '))\n",
    "divisor = int(input('Please enter dividend: '))\n",
    "\n",
    "# If possible, divide them and report the result\n",
    "if divisor != 0:\n",
    "    print(dividend, '/', divisor, \"=\", dividend/divisor)\n",
    "else:\n",
    "    print('Division by zero is not allowed')"
   ]
  },
  {
   "cell_type": "code",
   "execution_count": null,
   "metadata": {},
   "outputs": [],
   "source": []
  }
 ],
 "metadata": {
  "kernelspec": {
   "display_name": "Python 3",
   "language": "python",
   "name": "python3"
  },
  "language_info": {
   "codemirror_mode": {
    "name": "ipython",
    "version": 3
   },
   "file_extension": ".py",
   "mimetype": "text/x-python",
   "name": "python",
   "nbconvert_exporter": "python",
   "pygments_lexer": "ipython3",
   "version": "3.8.5"
  }
 },
 "nbformat": 4,
 "nbformat_minor": 4
}
