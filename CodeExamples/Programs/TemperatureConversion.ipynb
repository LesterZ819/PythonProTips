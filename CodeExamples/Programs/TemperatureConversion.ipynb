{
 "cells": [
  {
   "cell_type": "markdown",
   "metadata": {},
   "source": [
    "## Temperature Conversion\n",
    "\n",
    "#### Convert temperature values from C to F\n",
    "#### According to Wikipedia the highest recorded tempature was 56.7 °C. The lowest was -89.2 °C. "
   ]
  },
  {
   "cell_type": "code",
   "execution_count": 4,
   "metadata": {},
   "outputs": [
    {
     "name": "stdin",
     "output_type": "stream",
     "text": [
      "Please enter the tempature in Celsius: 48\n"
     ]
    },
    {
     "name": "stdout",
     "output_type": "stream",
     "text": [
      "The tempature in F is  126\n"
     ]
    }
   ],
   "source": [
    "TempC = int(input(\"Please enter the tempature in Celsius:\"))\n",
    "if TempC >= -90: # First check\n",
    "    if TempC <= 58: # Second check\n",
    "        print(\"The tempature in F is \", (TempC*2 + 30))\n",
    "    else:\n",
    "        print(\"Are you sure you entered the Tempature in C? \", TempC, \"is larger than the highest recorded temperature.\")\n",
    "else:\n",
    "    print(\"Are you sure you entered the Tempature in C?\", TempC, \"is smaller than the lowest recorded temperature.\")"
   ]
  }
 ],
 "metadata": {
  "kernelspec": {
   "display_name": "Python 3",
   "language": "python",
   "name": "python3"
  },
  "language_info": {
   "codemirror_mode": {
    "name": "ipython",
    "version": 3
   },
   "file_extension": ".py",
   "mimetype": "text/x-python",
   "name": "python",
   "nbconvert_exporter": "python",
   "pygments_lexer": "ipython3",
   "version": "3.8.5"
  }
 },
 "nbformat": 4,
 "nbformat_minor": 4
}
