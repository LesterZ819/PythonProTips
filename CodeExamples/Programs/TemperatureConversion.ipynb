{
 "cells": [
  {
   "cell_type": "markdown",
   "metadata": {},
   "source": [
    "## Temperature Conversion"
   ]
  },
  {
   "cell_type": "markdown",
   "metadata": {},
   "source": [
    "### Example 1: from QMB 6930\n",
    "##### Converts degrees Fahrenheit to degrees Celsius\n",
    "##### Based on the formula found at\n",
    "##### http://en.wikipedia.org/wiki/Conversion_of_units_of_temperature"
   ]
  },
  {
   "cell_type": "code",
   "execution_count": 1,
   "metadata": {},
   "outputs": [
    {
     "name": "stdin",
     "output_type": "stream",
     "text": [
      "Enter the temperature in degrees F:  89\n"
     ]
    },
    {
     "name": "stdout",
     "output_type": "stream",
     "text": [
      "89.0 degrees F = 31.666666666666668 degrees C\n"
     ]
    }
   ],
   "source": [
    "# Prompt user for temperature to convert and read the supplied value\n",
    "degreesF = float(input('Enter the temperature in degrees F: '))\n",
    "# Perform the conversion\n",
    "degreesC = 5/9*(degreesF - 32)\n",
    "# Report the result\n",
    "print(degreesF, 'degrees F =', degreesC, 'degrees C')"
   ]
  },
  {
   "cell_type": "markdown",
   "metadata": {},
   "source": [
    "### Example 2: Is that really a temperature? \n",
    "\n",
    "##### According to Wikipedia the highest recorded tempature was 56.7 °C. The lowest was -89.2 °C. Also aparently there are multiple ways to convert Celsius to Fahrenheit. One way to estimate is to multiple the tempature in C by 2 and add 30. "
   ]
  },
  {
   "cell_type": "code",
   "execution_count": 2,
   "metadata": {},
   "outputs": [
    {
     "name": "stdin",
     "output_type": "stream",
     "text": [
      "Please enter the tempature in Celsius: 89\n"
     ]
    },
    {
     "name": "stdout",
     "output_type": "stream",
     "text": [
      "Are you sure you entered the Tempature in C?  89  degrees Celsius is larger than the highest recorded temperature on earth which was 56.7.\n"
     ]
    }
   ],
   "source": [
    "TempC = int(input(\"Please enter the tempature in Celsius:\"))\n",
    "if TempC >= -90: # First check\n",
    "    if TempC <= 58: # Second check\n",
    "        print(\"The tempature in F is \", (TempC*2 + 30))\n",
    "    else:\n",
    "        print(\"Are you sure you entered the Tempature in C? \", TempC, \" degrees Celsius is larger than the highest recorded temperature on earth which was 56.7.\")\n",
    "else:\n",
    "    print(\"Are you sure you entered the Tempature in C?\", TempC, \"degrees Celsius is smaller than the lowest recorded temperature on earth which was -89.2.\")"
   ]
  }
 ],
 "metadata": {
  "kernelspec": {
   "display_name": "Python 3",
   "language": "python",
   "name": "python3"
  },
  "language_info": {
   "codemirror_mode": {
    "name": "ipython",
    "version": 3
   },
   "file_extension": ".py",
   "mimetype": "text/x-python",
   "name": "python",
   "nbconvert_exporter": "python",
   "pygments_lexer": "ipython3",
   "version": "3.8.5"
  }
 },
 "nbformat": 4,
 "nbformat_minor": 4
}
