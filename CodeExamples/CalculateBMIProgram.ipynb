{
 "cells": [
  {
   "cell_type": "markdown",
   "metadata": {},
   "source": [
    "## Calculate BMI \n",
    "\n",
    "#### Simple program to calculate a user's BMI based on the United States' measuring system. "
   ]
  },
  {
   "cell_type": "code",
   "execution_count": 1,
   "metadata": {},
   "outputs": [
    {
     "name": "stdout",
     "output_type": "stream",
     "text": [
      "Welcome to the BMI Calculator by Amanda.\n",
      "This program is designed to calculate BMI using The United States's customary measuring units inches and pounds.\n"
     ]
    }
   ],
   "source": [
    "print('Welcome to the BMI Calculator by Amanda.')\n",
    "print(\"This program is designed to calculate BMI using The United States's customary measuring units inches and pounds.\")"
   ]
  },
  {
   "cell_type": "code",
   "execution_count": 2,
   "metadata": {},
   "outputs": [
    {
     "name": "stdin",
     "output_type": "stream",
     "text": [
      "Please input the height in inches: 64\n",
      "Please input the weight in pounds: 125\n"
     ]
    }
   ],
   "source": [
    "HeightInch = int(input('Please input the height in inches:'))\n",
    "WeightLb = int(input('Please input the weight in pounds:'))"
   ]
  },
  {
   "cell_type": "markdown",
   "metadata": {},
   "source": [
    "#### The formula for calculating BMI is: 703 * weight (lbs) / [height (in)^2"
   ]
  },
  {
   "cell_type": "code",
   "execution_count": 3,
   "metadata": {},
   "outputs": [
    {
     "name": "stdout",
     "output_type": "stream",
     "text": [
      "The BMI is 21.45 given the height of 64 inches and weight of 125 pounds.\n"
     ]
    }
   ],
   "source": [
    "BMI = (703 * WeightLb) / (HeightInch**2)\n",
    "print('The BMI is ' + '{:.2f}'.format(BMI) + ' given the height of ' + str(HeightInch) + ' inches' + ' and weight of ' + str(WeightLb) + ' pounds.')"
   ]
  }
 ],
 "metadata": {
  "kernelspec": {
   "display_name": "Python 3",
   "language": "python",
   "name": "python3"
  },
  "language_info": {
   "codemirror_mode": {
    "name": "ipython",
    "version": 3
   },
   "file_extension": ".py",
   "mimetype": "text/x-python",
   "name": "python",
   "nbconvert_exporter": "python",
   "pygments_lexer": "ipython3",
   "version": "3.8.5"
  }
 },
 "nbformat": 4,
 "nbformat_minor": 4
}
