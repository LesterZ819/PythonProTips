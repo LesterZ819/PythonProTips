{
 "cells": [
  {
   "cell_type": "markdown",
   "metadata": {},
   "source": [
    "# Variables in Python \n",
    "\n",
    "- Variables are specific case-sensitive names where a variable is equal to a number or value \n",
    "- Variable Assignment uses \"=\"\n",
    "- Where comparisons uses \"==\""
   ]
  },
  {
   "cell_type": "code",
   "execution_count": 1,
   "metadata": {},
   "outputs": [
    {
     "name": "stdout",
     "output_type": "stream",
     "text": [
      "64\n",
      "125\n"
     ]
    }
   ],
   "source": [
    "#height and weight are examples of variables \n",
    "height = 64\n",
    "weight = 125 \n",
    "print(height)\n",
    "print(weight)"
   ]
  },
  {
   "cell_type": "code",
   "execution_count": 2,
   "metadata": {},
   "outputs": [
    {
     "name": "stdout",
     "output_type": "stream",
     "text": [
      "65\n",
      "135\n"
     ]
    }
   ],
   "source": [
    "#Variables can be reassigned as often as necessary \n",
    "height = 65 \n",
    "weight = 135\n",
    "print(height)\n",
    "print(weight)"
   ]
  },
  {
   "cell_type": "markdown",
   "metadata": {},
   "source": [
    "### Variables can be created using values from other variables, or from math functions "
   ]
  },
  {
   "cell_type": "code",
   "execution_count": 3,
   "metadata": {},
   "outputs": [
    {
     "data": {
      "text/plain": [
       "22.46272189349112"
      ]
     },
     "execution_count": 3,
     "metadata": {},
     "output_type": "execute_result"
    }
   ],
   "source": [
    "#Calculate BMI using variables and assign it to a new variable bmi \n",
    "bmi = (weight /(height**2))*703\n",
    "bmi"
   ]
  },
  {
   "cell_type": "code",
   "execution_count": 4,
   "metadata": {},
   "outputs": [
    {
     "name": "stdout",
     "output_type": "stream",
     "text": [
      "The total price including tax is 78.75 dollars.\n"
     ]
    }
   ],
   "source": [
    "#Example, Total Price \n",
    "UnitPrice = 75\n",
    "Tax = UnitPrice * .05\n",
    "PurchasePrice = UnitPrice + Tax\n",
    "print('The total price including tax is',PurchasePrice,'dollars.')"
   ]
  }
 ],
 "metadata": {
  "kernelspec": {
   "display_name": "Python 3",
   "language": "python",
   "name": "python3"
  },
  "language_info": {
   "codemirror_mode": {
    "name": "ipython",
    "version": 3
   },
   "file_extension": ".py",
   "mimetype": "text/x-python",
   "name": "python",
   "nbconvert_exporter": "python",
   "pygments_lexer": "ipython3",
   "version": "3.8.5"
  }
 },
 "nbformat": 4,
 "nbformat_minor": 4
}
